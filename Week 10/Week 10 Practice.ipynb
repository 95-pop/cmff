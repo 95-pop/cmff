{
 "cells": [
  {
   "cell_type": "markdown",
   "metadata": {},
   "source": [
    "# Week 10 Practice"
   ]
  },
  {
   "cell_type": "code",
   "execution_count": 1,
   "metadata": {},
   "outputs": [],
   "source": [
    "import numpy as np\n",
    "import pandas as pd\n",
    "import matplotlib.pyplot as plt\n",
    "import scipy.stats as si\n",
    "import yfinance as yf\n",
    "import os"
   ]
  },
  {
   "cell_type": "markdown",
   "metadata": {},
   "source": [
    "## Historical Volatility"
   ]
  },
  {
   "cell_type": "markdown",
   "metadata": {},
   "source": [
    "The histotical volatility of Tesla, Inc."
   ]
  },
  {
   "cell_type": "code",
   "execution_count": 2,
   "metadata": {},
   "outputs": [
    {
     "name": "stdout",
     "output_type": "stream",
     "text": [
      "[*********************100%***********************]  1 of 1 completed\n"
     ]
    }
   ],
   "source": [
    "TSLA = yf.download(\"TSLA\", start=\"2019-11-21\", end=\"2020-11-21\")"
   ]
  },
  {
   "cell_type": "code",
   "execution_count": 3,
   "metadata": {},
   "outputs": [
    {
     "name": "stdout",
     "output_type": "stream",
     "text": [
      "The spot price is $ 489.61\n"
     ]
    }
   ],
   "source": [
    "S = TSLA['Adj Close'][-1]\n",
    "print('The spot price is $', round(S,2))"
   ]
  },
  {
   "cell_type": "code",
   "execution_count": 4,
   "metadata": {},
   "outputs": [
    {
     "name": "stdout",
     "output_type": "stream",
     "text": [
      "The annualised volatility is 88.55 %\n"
     ]
    }
   ],
   "source": [
    "log_return = np.log(TSLA['Adj Close'] / TSLA['Adj Close'].shift(1))\n",
    "vol_h = np.sqrt(len(TSLA)) * log_return.std()\n",
    "print('The annualised volatility is', round(vol_h*100,2), '%')"
   ]
  },
  {
   "cell_type": "markdown",
   "metadata": {},
   "source": [
    "## Market Volatility"
   ]
  },
  {
   "cell_type": "markdown",
   "metadata": {},
   "source": [
    "The market volatility, VIX,  is the ticker symbol and the popular name for the Chicago Board Options Exchange's CBOE Volatility Index, a popular measure of the stock market's expectation of volatility based on S&P 500 index options."
   ]
  },
  {
   "cell_type": "code",
   "execution_count": 5,
   "metadata": {},
   "outputs": [
    {
     "name": "stdout",
     "output_type": "stream",
     "text": [
      "[*********************100%***********************]  1 of 1 completed\n"
     ]
    }
   ],
   "source": [
    "VIX = yf.download(\"^VIX\", start=\"2019-11-21\", end=\"2020-11-21\")"
   ]
  },
  {
   "cell_type": "code",
   "execution_count": 6,
   "metadata": {},
   "outputs": [
    {
     "data": {
      "text/html": [
       "<div>\n",
       "<style scoped>\n",
       "    .dataframe tbody tr th:only-of-type {\n",
       "        vertical-align: middle;\n",
       "    }\n",
       "\n",
       "    .dataframe tbody tr th {\n",
       "        vertical-align: top;\n",
       "    }\n",
       "\n",
       "    .dataframe thead th {\n",
       "        text-align: right;\n",
       "    }\n",
       "</style>\n",
       "<table border=\"1\" class=\"dataframe\">\n",
       "  <thead>\n",
       "    <tr style=\"text-align: right;\">\n",
       "      <th></th>\n",
       "      <th>Open</th>\n",
       "      <th>High</th>\n",
       "      <th>Low</th>\n",
       "      <th>Close</th>\n",
       "      <th>Adj Close</th>\n",
       "      <th>Volume</th>\n",
       "    </tr>\n",
       "    <tr>\n",
       "      <th>Date</th>\n",
       "      <th></th>\n",
       "      <th></th>\n",
       "      <th></th>\n",
       "      <th></th>\n",
       "      <th></th>\n",
       "      <th></th>\n",
       "    </tr>\n",
       "  </thead>\n",
       "  <tbody>\n",
       "    <tr>\n",
       "      <th>2019-11-21</th>\n",
       "      <td>13.350000</td>\n",
       "      <td>13.86</td>\n",
       "      <td>12.490000</td>\n",
       "      <td>13.130000</td>\n",
       "      <td>13.130000</td>\n",
       "      <td>0</td>\n",
       "    </tr>\n",
       "    <tr>\n",
       "      <th>2019-11-22</th>\n",
       "      <td>12.820000</td>\n",
       "      <td>13.25</td>\n",
       "      <td>12.330000</td>\n",
       "      <td>12.340000</td>\n",
       "      <td>12.340000</td>\n",
       "      <td>0</td>\n",
       "    </tr>\n",
       "    <tr>\n",
       "      <th>2019-11-25</th>\n",
       "      <td>12.510000</td>\n",
       "      <td>12.59</td>\n",
       "      <td>11.730000</td>\n",
       "      <td>11.870000</td>\n",
       "      <td>11.870000</td>\n",
       "      <td>0</td>\n",
       "    </tr>\n",
       "    <tr>\n",
       "      <th>2019-11-26</th>\n",
       "      <td>11.880000</td>\n",
       "      <td>12.04</td>\n",
       "      <td>11.420000</td>\n",
       "      <td>11.540000</td>\n",
       "      <td>11.540000</td>\n",
       "      <td>0</td>\n",
       "    </tr>\n",
       "    <tr>\n",
       "      <th>2019-11-27</th>\n",
       "      <td>11.550000</td>\n",
       "      <td>11.79</td>\n",
       "      <td>11.440000</td>\n",
       "      <td>11.750000</td>\n",
       "      <td>11.750000</td>\n",
       "      <td>0</td>\n",
       "    </tr>\n",
       "    <tr>\n",
       "      <th>...</th>\n",
       "      <td>...</td>\n",
       "      <td>...</td>\n",
       "      <td>...</td>\n",
       "      <td>...</td>\n",
       "      <td>...</td>\n",
       "      <td>...</td>\n",
       "    </tr>\n",
       "    <tr>\n",
       "      <th>2020-11-16</th>\n",
       "      <td>23.660000</td>\n",
       "      <td>24.08</td>\n",
       "      <td>22.430000</td>\n",
       "      <td>22.450001</td>\n",
       "      <td>22.450001</td>\n",
       "      <td>0</td>\n",
       "    </tr>\n",
       "    <tr>\n",
       "      <th>2020-11-17</th>\n",
       "      <td>22.840000</td>\n",
       "      <td>24.09</td>\n",
       "      <td>22.340000</td>\n",
       "      <td>22.709999</td>\n",
       "      <td>22.709999</td>\n",
       "      <td>0</td>\n",
       "    </tr>\n",
       "    <tr>\n",
       "      <th>2020-11-18</th>\n",
       "      <td>22.860001</td>\n",
       "      <td>23.92</td>\n",
       "      <td>21.660000</td>\n",
       "      <td>23.840000</td>\n",
       "      <td>23.840000</td>\n",
       "      <td>0</td>\n",
       "    </tr>\n",
       "    <tr>\n",
       "      <th>2020-11-19</th>\n",
       "      <td>23.620001</td>\n",
       "      <td>24.52</td>\n",
       "      <td>22.559999</td>\n",
       "      <td>23.110001</td>\n",
       "      <td>23.110001</td>\n",
       "      <td>0</td>\n",
       "    </tr>\n",
       "    <tr>\n",
       "      <th>2020-11-20</th>\n",
       "      <td>23.430000</td>\n",
       "      <td>23.73</td>\n",
       "      <td>22.129999</td>\n",
       "      <td>23.700001</td>\n",
       "      <td>23.700001</td>\n",
       "      <td>0</td>\n",
       "    </tr>\n",
       "  </tbody>\n",
       "</table>\n",
       "<p>253 rows × 6 columns</p>\n",
       "</div>"
      ],
      "text/plain": [
       "                 Open   High        Low      Close  Adj Close  Volume\n",
       "Date                                                                 \n",
       "2019-11-21  13.350000  13.86  12.490000  13.130000  13.130000       0\n",
       "2019-11-22  12.820000  13.25  12.330000  12.340000  12.340000       0\n",
       "2019-11-25  12.510000  12.59  11.730000  11.870000  11.870000       0\n",
       "2019-11-26  11.880000  12.04  11.420000  11.540000  11.540000       0\n",
       "2019-11-27  11.550000  11.79  11.440000  11.750000  11.750000       0\n",
       "...               ...    ...        ...        ...        ...     ...\n",
       "2020-11-16  23.660000  24.08  22.430000  22.450001  22.450001       0\n",
       "2020-11-17  22.840000  24.09  22.340000  22.709999  22.709999       0\n",
       "2020-11-18  22.860001  23.92  21.660000  23.840000  23.840000       0\n",
       "2020-11-19  23.620001  24.52  22.559999  23.110001  23.110001       0\n",
       "2020-11-20  23.430000  23.73  22.129999  23.700001  23.700001       0\n",
       "\n",
       "[253 rows x 6 columns]"
      ]
     },
     "execution_count": 6,
     "metadata": {},
     "output_type": "execute_result"
    }
   ],
   "source": [
    "VIX"
   ]
  },
  {
   "cell_type": "code",
   "execution_count": 7,
   "metadata": {},
   "outputs": [
    {
     "name": "stdout",
     "output_type": "stream",
     "text": [
      "The market volatility is 23.7 %\n"
     ]
    }
   ],
   "source": [
    "print('The market volatility is', round(VIX['Adj Close'][-1],2) , '%') "
   ]
  },
  {
   "cell_type": "markdown",
   "metadata": {},
   "source": [
    "## Volatility Smile"
   ]
  },
  {
   "cell_type": "markdown",
   "metadata": {},
   "source": [
    "Volatility smiles are implied volatility patterns that arise in pricing financial options. It corresponds to finding one single parameter (implied volatility) that is needed to be modified for the Black–Scholes formula to fit market prices. "
   ]
  },
  {
   "cell_type": "code",
   "execution_count": 8,
   "metadata": {},
   "outputs": [],
   "source": [
    "def newton_vol_call(S, K, T, C, r):\n",
    "    \n",
    "    #S: spot price\n",
    "    #K: strike price\n",
    "    #T: time to maturity\n",
    "    #C: Call value\n",
    "    #r: risk free rate\n",
    "    #sigma: volatility of underlying asset\n",
    "   \n",
    "    MAX_ITERATIONS = 1000\n",
    "    tolerance = 0.000001\n",
    "    \n",
    "    sigma = 0.25\n",
    "    \n",
    "    for i in range(0, MAX_ITERATIONS):\n",
    "        d1 = (np.log(S / K) + (r + 0.5 * sigma ** 2) * T) / (sigma * np.sqrt(T))\n",
    "        d2 = (np.log(S / K) + (r - 0.5 * sigma ** 2) * T) / (sigma * np.sqrt(T))\n",
    "        price = S * si.norm.cdf(d1, 0.0, 1.0) - K * np.exp(-r * T) * si.norm.cdf(d2, 0.0, 1.0)\n",
    "        vega = S * np.sqrt(T) * si.norm.pdf(d1, 0.0, 1.0)\n",
    "\n",
    "        diff = C - price\n",
    "\n",
    "        if (abs(diff) < tolerance):\n",
    "            return sigma\n",
    "        else: \n",
    "            sigma = sigma + diff/vega\n",
    "        \n",
    "        # print(i,sigma,diff)\n",
    "        \n",
    "    return sigma"
   ]
  },
  {
   "cell_type": "markdown",
   "metadata": {},
   "source": [
    "Download the Tesla option data."
   ]
  },
  {
   "cell_type": "code",
   "execution_count": 9,
   "metadata": {},
   "outputs": [
    {
     "data": {
      "text/html": [
       "<div>\n",
       "<style scoped>\n",
       "    .dataframe tbody tr th:only-of-type {\n",
       "        vertical-align: middle;\n",
       "    }\n",
       "\n",
       "    .dataframe tbody tr th {\n",
       "        vertical-align: top;\n",
       "    }\n",
       "\n",
       "    .dataframe thead th {\n",
       "        text-align: right;\n",
       "    }\n",
       "</style>\n",
       "<table border=\"1\" class=\"dataframe\">\n",
       "  <thead>\n",
       "    <tr style=\"text-align: right;\">\n",
       "      <th></th>\n",
       "      <th>contractSymbol</th>\n",
       "      <th>lastTradeDate</th>\n",
       "      <th>strike</th>\n",
       "      <th>lastPrice</th>\n",
       "      <th>bid</th>\n",
       "      <th>ask</th>\n",
       "      <th>change</th>\n",
       "      <th>percentChange</th>\n",
       "      <th>volume</th>\n",
       "      <th>openInterest</th>\n",
       "      <th>impliedVolatility</th>\n",
       "      <th>inTheMoney</th>\n",
       "      <th>contractSize</th>\n",
       "      <th>currency</th>\n",
       "    </tr>\n",
       "  </thead>\n",
       "  <tbody>\n",
       "    <tr>\n",
       "      <th>0</th>\n",
       "      <td>TSLA201224C00020000</td>\n",
       "      <td>2020-11-17 14:30:49</td>\n",
       "      <td>20.0</td>\n",
       "      <td>435.10</td>\n",
       "      <td>466.85</td>\n",
       "      <td>471.75</td>\n",
       "      <td>0.00</td>\n",
       "      <td>0.0</td>\n",
       "      <td>1.0</td>\n",
       "      <td>2.0</td>\n",
       "      <td>6.078127</td>\n",
       "      <td>True</td>\n",
       "      <td>REGULAR</td>\n",
       "      <td>USD</td>\n",
       "    </tr>\n",
       "    <tr>\n",
       "      <th>1</th>\n",
       "      <td>TSLA201224C00060000</td>\n",
       "      <td>2020-11-16 05:11:37</td>\n",
       "      <td>60.0</td>\n",
       "      <td>349.80</td>\n",
       "      <td>426.85</td>\n",
       "      <td>431.75</td>\n",
       "      <td>0.00</td>\n",
       "      <td>0.0</td>\n",
       "      <td>NaN</td>\n",
       "      <td>2.0</td>\n",
       "      <td>3.766602</td>\n",
       "      <td>True</td>\n",
       "      <td>REGULAR</td>\n",
       "      <td>USD</td>\n",
       "    </tr>\n",
       "    <tr>\n",
       "      <th>2</th>\n",
       "      <td>TSLA201224C00150000</td>\n",
       "      <td>2020-11-16 14:30:19</td>\n",
       "      <td>150.0</td>\n",
       "      <td>256.10</td>\n",
       "      <td>337.00</td>\n",
       "      <td>341.90</td>\n",
       "      <td>0.00</td>\n",
       "      <td>0.0</td>\n",
       "      <td>NaN</td>\n",
       "      <td>1.0</td>\n",
       "      <td>2.160405</td>\n",
       "      <td>True</td>\n",
       "      <td>REGULAR</td>\n",
       "      <td>USD</td>\n",
       "    </tr>\n",
       "    <tr>\n",
       "      <th>3</th>\n",
       "      <td>TSLA201224C00200000</td>\n",
       "      <td>2020-11-18 16:58:49</td>\n",
       "      <td>200.0</td>\n",
       "      <td>270.85</td>\n",
       "      <td>287.40</td>\n",
       "      <td>292.05</td>\n",
       "      <td>270.85</td>\n",
       "      <td>NaN</td>\n",
       "      <td>NaN</td>\n",
       "      <td>1.0</td>\n",
       "      <td>1.107426</td>\n",
       "      <td>True</td>\n",
       "      <td>REGULAR</td>\n",
       "      <td>USD</td>\n",
       "    </tr>\n",
       "    <tr>\n",
       "      <th>4</th>\n",
       "      <td>TSLA201224C00250000</td>\n",
       "      <td>2020-11-20 20:19:23</td>\n",
       "      <td>250.0</td>\n",
       "      <td>241.10</td>\n",
       "      <td>237.65</td>\n",
       "      <td>242.45</td>\n",
       "      <td>241.10</td>\n",
       "      <td>NaN</td>\n",
       "      <td>10.0</td>\n",
       "      <td>0.0</td>\n",
       "      <td>0.993164</td>\n",
       "      <td>True</td>\n",
       "      <td>REGULAR</td>\n",
       "      <td>USD</td>\n",
       "    </tr>\n",
       "    <tr>\n",
       "      <th>...</th>\n",
       "      <td>...</td>\n",
       "      <td>...</td>\n",
       "      <td>...</td>\n",
       "      <td>...</td>\n",
       "      <td>...</td>\n",
       "      <td>...</td>\n",
       "      <td>...</td>\n",
       "      <td>...</td>\n",
       "      <td>...</td>\n",
       "      <td>...</td>\n",
       "      <td>...</td>\n",
       "      <td>...</td>\n",
       "      <td>...</td>\n",
       "      <td>...</td>\n",
       "    </tr>\n",
       "    <tr>\n",
       "      <th>77</th>\n",
       "      <td>TSLA201224C00660000</td>\n",
       "      <td>2020-11-20 20:02:11</td>\n",
       "      <td>660.0</td>\n",
       "      <td>8.80</td>\n",
       "      <td>6.10</td>\n",
       "      <td>9.85</td>\n",
       "      <td>8.80</td>\n",
       "      <td>NaN</td>\n",
       "      <td>61.0</td>\n",
       "      <td>NaN</td>\n",
       "      <td>0.830019</td>\n",
       "      <td>False</td>\n",
       "      <td>REGULAR</td>\n",
       "      <td>USD</td>\n",
       "    </tr>\n",
       "    <tr>\n",
       "      <th>78</th>\n",
       "      <td>TSLA201224C00670000</td>\n",
       "      <td>2020-11-20 20:57:53</td>\n",
       "      <td>670.0</td>\n",
       "      <td>7.70</td>\n",
       "      <td>5.75</td>\n",
       "      <td>10.00</td>\n",
       "      <td>7.70</td>\n",
       "      <td>NaN</td>\n",
       "      <td>9.0</td>\n",
       "      <td>NaN</td>\n",
       "      <td>0.854799</td>\n",
       "      <td>False</td>\n",
       "      <td>REGULAR</td>\n",
       "      <td>USD</td>\n",
       "    </tr>\n",
       "    <tr>\n",
       "      <th>79</th>\n",
       "      <td>TSLA201224C00680000</td>\n",
       "      <td>2020-11-20 18:04:08</td>\n",
       "      <td>680.0</td>\n",
       "      <td>7.19</td>\n",
       "      <td>5.20</td>\n",
       "      <td>9.40</td>\n",
       "      <td>7.19</td>\n",
       "      <td>NaN</td>\n",
       "      <td>13.0</td>\n",
       "      <td>NaN</td>\n",
       "      <td>0.863466</td>\n",
       "      <td>False</td>\n",
       "      <td>REGULAR</td>\n",
       "      <td>USD</td>\n",
       "    </tr>\n",
       "    <tr>\n",
       "      <th>80</th>\n",
       "      <td>TSLA201224C00690000</td>\n",
       "      <td>2020-11-20 20:02:51</td>\n",
       "      <td>690.0</td>\n",
       "      <td>6.95</td>\n",
       "      <td>4.25</td>\n",
       "      <td>8.90</td>\n",
       "      <td>6.95</td>\n",
       "      <td>NaN</td>\n",
       "      <td>39.0</td>\n",
       "      <td>NaN</td>\n",
       "      <td>0.865175</td>\n",
       "      <td>False</td>\n",
       "      <td>REGULAR</td>\n",
       "      <td>USD</td>\n",
       "    </tr>\n",
       "    <tr>\n",
       "      <th>81</th>\n",
       "      <td>TSLA201224C00700000</td>\n",
       "      <td>2020-11-20 20:59:13</td>\n",
       "      <td>700.0</td>\n",
       "      <td>6.16</td>\n",
       "      <td>6.00</td>\n",
       "      <td>6.55</td>\n",
       "      <td>6.16</td>\n",
       "      <td>NaN</td>\n",
       "      <td>259.0</td>\n",
       "      <td>NaN</td>\n",
       "      <td>0.879701</td>\n",
       "      <td>False</td>\n",
       "      <td>REGULAR</td>\n",
       "      <td>USD</td>\n",
       "    </tr>\n",
       "  </tbody>\n",
       "</table>\n",
       "<p>82 rows × 14 columns</p>\n",
       "</div>"
      ],
      "text/plain": [
       "         contractSymbol       lastTradeDate  strike  lastPrice     bid  \\\n",
       "0   TSLA201224C00020000 2020-11-17 14:30:49    20.0     435.10  466.85   \n",
       "1   TSLA201224C00060000 2020-11-16 05:11:37    60.0     349.80  426.85   \n",
       "2   TSLA201224C00150000 2020-11-16 14:30:19   150.0     256.10  337.00   \n",
       "3   TSLA201224C00200000 2020-11-18 16:58:49   200.0     270.85  287.40   \n",
       "4   TSLA201224C00250000 2020-11-20 20:19:23   250.0     241.10  237.65   \n",
       "..                  ...                 ...     ...        ...     ...   \n",
       "77  TSLA201224C00660000 2020-11-20 20:02:11   660.0       8.80    6.10   \n",
       "78  TSLA201224C00670000 2020-11-20 20:57:53   670.0       7.70    5.75   \n",
       "79  TSLA201224C00680000 2020-11-20 18:04:08   680.0       7.19    5.20   \n",
       "80  TSLA201224C00690000 2020-11-20 20:02:51   690.0       6.95    4.25   \n",
       "81  TSLA201224C00700000 2020-11-20 20:59:13   700.0       6.16    6.00   \n",
       "\n",
       "       ask  change  percentChange  volume  openInterest  impliedVolatility  \\\n",
       "0   471.75    0.00            0.0     1.0           2.0           6.078127   \n",
       "1   431.75    0.00            0.0     NaN           2.0           3.766602   \n",
       "2   341.90    0.00            0.0     NaN           1.0           2.160405   \n",
       "3   292.05  270.85            NaN     NaN           1.0           1.107426   \n",
       "4   242.45  241.10            NaN    10.0           0.0           0.993164   \n",
       "..     ...     ...            ...     ...           ...                ...   \n",
       "77    9.85    8.80            NaN    61.0           NaN           0.830019   \n",
       "78   10.00    7.70            NaN     9.0           NaN           0.854799   \n",
       "79    9.40    7.19            NaN    13.0           NaN           0.863466   \n",
       "80    8.90    6.95            NaN    39.0           NaN           0.865175   \n",
       "81    6.55    6.16            NaN   259.0           NaN           0.879701   \n",
       "\n",
       "    inTheMoney contractSize currency  \n",
       "0         True      REGULAR      USD  \n",
       "1         True      REGULAR      USD  \n",
       "2         True      REGULAR      USD  \n",
       "3         True      REGULAR      USD  \n",
       "4         True      REGULAR      USD  \n",
       "..         ...          ...      ...  \n",
       "77       False      REGULAR      USD  \n",
       "78       False      REGULAR      USD  \n",
       "79       False      REGULAR      USD  \n",
       "80       False      REGULAR      USD  \n",
       "81       False      REGULAR      USD  \n",
       "\n",
       "[82 rows x 14 columns]"
      ]
     },
     "execution_count": 9,
     "metadata": {},
     "output_type": "execute_result"
    }
   ],
   "source": [
    "TESLA = yf.Ticker(\"TSLA\")\n",
    "opt = TESLA.option_chain('2020-12-24')\n",
    "opt.calls"
   ]
  },
  {
   "cell_type": "code",
   "execution_count": 10,
   "metadata": {},
   "outputs": [
    {
     "name": "stdout",
     "output_type": "stream",
     "text": [
      "The implied volatility is 75.37 % for the one-month call with strike $ 490\n"
     ]
    }
   ],
   "source": [
    "impvol = newton_vol_call(S, 490, 1/12, float(opt.calls.lastPrice[opt.calls.strike == 490]), 0.0089)\n",
    "print('The implied volatility is', round(impvol*100,2) , '% for the one-month call with strike $ 490' ) "
   ]
  },
  {
   "cell_type": "code",
   "execution_count": 11,
   "metadata": {},
   "outputs": [],
   "source": [
    "import mibian"
   ]
  },
  {
   "cell_type": "code",
   "execution_count": 12,
   "metadata": {},
   "outputs": [
    {
     "name": "stdout",
     "output_type": "stream",
     "text": [
      "The implied volatility is 74.71 % for the one-month call with strike $ 490\n"
     ]
    }
   ],
   "source": [
    "c = mibian.BS([489.61, 490, 0.89, 31], callPrice = 42.40)\n",
    "c.impliedVolatility\n",
    "print('The implied volatility is', round(c.impliedVolatility,2) , '% for the one-month call with strike $ 490' ) "
   ]
  },
  {
   "cell_type": "code",
   "execution_count": 13,
   "metadata": {},
   "outputs": [],
   "source": [
    "impliedvol = np.zeros((len(opt.calls.strike),1))\n",
    "for i in range(len(opt.calls.strike)):\n",
    "    c = mibian.BS([S, opt.calls.strike[i], 0.89, 31], callPrice = opt.calls.lastPrice[i])\n",
    "    impliedvol [i] = c.impliedVolatility"
   ]
  },
  {
   "cell_type": "code",
   "execution_count": 14,
   "metadata": {},
   "outputs": [
    {
     "data": {
      "text/plain": [
       "Text(0.5, 1.0, 'Volatility Smile')"
      ]
     },
     "execution_count": 14,
     "metadata": {},
     "output_type": "execute_result"
    },
    {
     "data": {
      "image/png": "[encoded data removed]",
      "text/plain": [
       "<Figure size 432x288 with 1 Axes>"
      ]
     },
     "metadata": {
      "needs_background": "light"
     },
     "output_type": "display_data"
    }
   ],
   "source": [
    "fig = plt.figure()\n",
    "plt.plot(opt.calls.strike[40:55], impliedvol[40:55], '-')\n",
    "plt.xlabel('Strike Price')\n",
    "plt.ylabel('Implied Volatility')\n",
    "plt.title('Volatility Smile')"
   ]
  },
  {
   "cell_type": "markdown",
   "metadata": {},
   "source": [
    "## Term structure of volatility"
   ]
  },
  {
   "cell_type": "markdown",
   "metadata": {},
   "source": [
    "Volatility term structures list the relationship between implied volatilities and time to expiration."
   ]
  },
  {
   "cell_type": "code",
   "execution_count": 15,
   "metadata": {},
   "outputs": [
    {
     "name": "stdout",
     "output_type": "stream",
     "text": [
      "Requirement already up-to-date: arrow in c:\\users\\gongh\\anaconda3\\lib\\site-packages (0.17.0)Note: you may need to restart the kernel to use updated packages.\n",
      "Requirement already satisfied, skipping upgrade: python-dateutil>=2.7.0 in c:\\users\\gongh\\anaconda3\\lib\\site-packages (from arrow) (2.8.1)\n",
      "Requirement already satisfied, skipping upgrade: six>=1.5 in c:\\users\\gongh\\anaconda3\\lib\\site-packages (from python-dateutil>=2.7.0->arrow) (1.15.0)\n",
      "\n"
     ]
    }
   ],
   "source": [
    "pip install -U arrow"
   ]
  },
  {
   "cell_type": "code",
   "execution_count": 16,
   "metadata": {},
   "outputs": [],
   "source": [
    "import arrow\n",
    "T = ['2020-11-27','2020-12-04','2020-12-11','2020-12-18','2020-12-24',\n",
    "     '2020-12-31','2021-01-15','2021-02-19','2021-03-19','2021-06-18',\n",
    "     '2021-07-16','2021-09-17','2022-01-21','2022-03-18','2022-06-17','2022-09-16','2023-01-20']"
   ]
  },
  {
   "cell_type": "code",
   "execution_count": 17,
   "metadata": {},
   "outputs": [],
   "source": [
    "impliedvol_t = np.zeros((len(T),1))\n",
    "now = arrow.get('2020-11-23')\n",
    "days = np.zeros((len(T),1))\n",
    "for j in range(len(T)):\n",
    "    opt = TESLA.option_chain(T[j])\n",
    "    temp = arrow.get(T[j])\n",
    "    delta = temp - now\n",
    "    days[j] = delta.days\n",
    "    c = mibian.BS([S, 490, 0.89, days[j]], callPrice = float(opt.calls.lastPrice[opt.calls.strike==490]))\n",
    "    impliedvol_t [j] = c.impliedVolatility"
   ]
  },
  {
   "cell_type": "code",
   "execution_count": 18,
   "metadata": {},
   "outputs": [
    {
     "data": {
      "text/plain": [
       "Text(0.5, 1.0, 'Term structure of volatility')"
      ]
     },
     "execution_count": 18,
     "metadata": {},
     "output_type": "execute_result"
    },
    {
     "data": {
      "image/png": "[encoded data removed]",
      "text/plain": [
       "<Figure size 432x288 with 1 Axes>"
      ]
     },
     "metadata": {
      "needs_background": "light"
     },
     "output_type": "display_data"
    }
   ],
   "source": [
    "fig = plt.figure()\n",
    "plt.plot(days, impliedvol_t, '-')\n",
    "plt.xlabel('Time to Expiry (Days)')\n",
    "plt.ylabel('Implied Volatility')\n",
    "plt.title('Term structure of volatility')"
   ]
  },
  {
   "cell_type": "markdown",
   "metadata": {},
   "source": [
    "## Implied volatility surface"
   ]
  },
  {
   "cell_type": "markdown",
   "metadata": {},
   "source": [
    "It is often useful to plot implied volatility as a function of both strike price and time to maturity.[2] The result is a two-dimensional curved surface plotted in three dimensions whereby the current market implied volatility (z-axis) for all options on the underlying is plotted against the price (y-axis) and time to maturity (x-axis \"DTM\"). "
   ]
  },
  {
   "cell_type": "code",
   "execution_count": 19,
   "metadata": {},
   "outputs": [],
   "source": [
    "K = np.linspace(430,530,11)"
   ]
  },
  {
   "cell_type": "code",
   "execution_count": 20,
   "metadata": {},
   "outputs": [],
   "source": [
    "impliedvol_s = np.zeros((len(K),len(days)))\n",
    "for j in range(len(days)):\n",
    "    for i in range(len(K)):\n",
    "        opt = TESLA.option_chain(T[j])\n",
    "        c = mibian.BS([S, K[i], 0.89, days[j]], callPrice = float(opt.calls.lastPrice[opt.calls.strike == K[i]]))\n",
    "        impliedvol_s [i,j] = c.impliedVolatility"
   ]
  },
  {
   "cell_type": "code",
   "execution_count": 21,
   "metadata": {},
   "outputs": [
    {
     "data": {
      "text/plain": [
       "array([[91.30859375, 70.3125    , 71.2890625 , 72.50976562, 73.73046875,\n",
       "        89.35546875, 76.171875  , 75.80566406, 72.02148438, 71.35009766,\n",
       "        73.50921631, 76.21383667, 75.21438599, 72.16644287, 58.33816528,\n",
       "        73.88305664, 74.04708862],\n",
       "       [75.92773438, 69.82421875, 68.96972656, 72.75390625, 73.2421875 ,\n",
       "        70.43457031, 73.68469238, 73.31848145, 72.23510742, 71.99859619,\n",
       "        77.80456543, 75.01220703, 69.92340088, 76.24053955, 75.24108887,\n",
       "        71.41113281, 69.70214844],\n",
       "       [69.70214844, 68.45092773, 70.40405273, 72.75390625, 73.5168457 ,\n",
       "        72.38769531, 74.17297363, 73.60076904, 72.35717773, 71.65527344,\n",
       "        70.67871094, 69.51904297, 71.09451294, 74.76806641, 70.09887695,\n",
       "        70.73974609, 70.25146484],\n",
       "       [71.89941406, 70.67871094, 70.70922852, 73.73046875, 73.5168457 ,\n",
       "        74.21875   , 73.57788086, 73.72283936, 73.34899902, 73.01330566,\n",
       "        77.61383057, 72.02148438, 72.32666016, 71.35009766, 73.60839844,\n",
       "        72.5402832 , 69.97680664],\n",
       "       [74.21875   , 71.2890625 , 72.265625  , 74.32556152, 73.74572754,\n",
       "        72.5402832 , 74.09667969, 77.0111084 , 73.18115234, 72.93701172,\n",
       "        79.13208008, 77.08740234, 72.38006592, 75.16098022, 75.13046265,\n",
       "        69.30541992, 71.03729248],\n",
       "       [75.28686523, 72.35717773, 73.19641113, 75.1953125 , 74.46289062,\n",
       "        73.45581055, 74.70703125, 75.31738281, 73.60839844, 73.85253906,\n",
       "        72.20458984, 70.43457031, 71.96044922, 72.24273682, 68.57299805,\n",
       "        73.92501831, 68.09616089],\n",
       "       [78.33862305, 74.70703125, 75.1953125 , 74.95117188, 74.70703125,\n",
       "        73.97460938, 75.10375977, 74.93591309, 73.73046875, 71.65527344,\n",
       "        73.54736328, 70.59860229, 71.10595703, 71.5637207 , 70.27053833,\n",
       "        73.19641113, 72.67379761],\n",
       "       [80.93261719, 75.43945312, 74.43237305, 76.00402832, 75.74462891,\n",
       "        74.46289062, 75.54626465, 75.37841797, 73.6541748 , 71.96044922,\n",
       "        71.51031494, 70.57952881, 70.70922852, 71.86889648, 70.71304321,\n",
       "        70.75119019, 69.15283203],\n",
       "       [83.984375  , 77.30102539, 75.65307617, 76.7364502 , 76.04980469,\n",
       "        75.24108887, 75.56915283, 75.18005371, 74.13482666, 72.75390625,\n",
       "        75.74462891, 71.35009766, 71.16699219, 77.20947266, 69.82421875,\n",
       "        72.86071777, 68.359375  ],\n",
       "       [87.76855469, 79.1015625 , 77.1484375 , 77.39257812, 76.75170898,\n",
       "        75.25634766, 76.66015625, 75.71411133, 74.33319092, 71.2890625 ,\n",
       "        80.31463623, 74.87487793, 70.24765015, 72.38769531, 76.62200928,\n",
       "        75.98876953, 71.65527344],\n",
       "       [92.52929688, 81.08520508, 77.97241211, 78.3996582 , 77.39257812,\n",
       "        75.56152344, 77.5604248 , 75.59967041, 74.40185547, 73.04382324,\n",
       "        76.171875  , 76.37786865, 70.26672363, 74.03564453, 52.12783813,\n",
       "        72.28088379, 69.82421875]])"
      ]
     },
     "execution_count": 21,
     "metadata": {},
     "output_type": "execute_result"
    }
   ],
   "source": [
    "impliedvol_s"
   ]
  },
  {
   "cell_type": "code",
   "execution_count": 22,
   "metadata": {},
   "outputs": [
    {
     "data": {
      "image/png": "[encoded data removed]",
      "text/plain": [
       "<Figure size 720x432 with 2 Axes>"
      ]
     },
     "metadata": {
      "needs_background": "light"
     },
     "output_type": "display_data"
    }
   ],
   "source": [
    "fig = plt.figure(figsize=(10, 6))\n",
    "ax = fig.gca(projection='3d')\n",
    "K, days = np.meshgrid(K, days)\n",
    "surf = ax.plot_surface(K, days, impliedvol_s.T, rstride=2, cstride=2, cmap=plt.cm.coolwarm, linewidth=0.5, antialiased=True)\n",
    "ax.set_xlabel('Strike Price')\n",
    "ax.set_ylabel('Time to Expiry (Days)')\n",
    "ax.set_zlabel('Implied Volatility (%)')\n",
    "plt.title('The Volatility Surface')\n",
    "fig.colorbar(surf, shrink=0.5, aspect=5);"
   ]
  }
 ],
 "metadata": {
  "kernelspec": {
   "display_name": "Python 3",
   "language": "python",
   "name": "python3"
  },
  "language_info": {
   "codemirror_mode": {
    "name": "ipython",
    "version": 3
   },
   "file_extension": ".py",
   "mimetype": "text/x-python",
   "name": "python",
   "nbconvert_exporter": "python",
   "pygments_lexer": "ipython3",
   "version": "3.8.3"
  }
 },
 "nbformat": 4,
 "nbformat_minor": 4
}
